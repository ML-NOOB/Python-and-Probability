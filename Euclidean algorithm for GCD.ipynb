{
 "cells": [
  {
   "cell_type": "code",
   "execution_count": 55,
   "metadata": {},
   "outputs": [
    {
     "name": "stdout",
     "output_type": "stream",
     "text": [
      "Enter the input two positive integers to find the GCD\n"
     ]
    },
    {
     "name": "stdin",
     "output_type": "stream",
     "text": [
      " 78\n",
      " 8\n"
     ]
    }
   ],
   "source": [
    "\n",
    "#Euclidean algorithm to find greates common divisor of two numbers\n",
    "print(\"Enter the input two positive integers to find the GCD\")\n",
    "a = int(input())\n",
    "b = int(input())\n",
    "\n",
    "\n"
   ]
  },
  {
   "cell_type": "code",
   "execution_count": 56,
   "metadata": {},
   "outputs": [],
   "source": [
    "remainder = 1\n",
    "quotient = 0\n"
   ]
  },
  {
   "cell_type": "code",
   "execution_count": 57,
   "metadata": {},
   "outputs": [
    {
     "name": "stdout",
     "output_type": "stream",
     "text": [
      "GCD is 2\n"
     ]
    }
   ],
   "source": [
    "while (remainder != 0):\n",
    "    remainder = a%b\n",
    "    quotient =(a-remainder)/b\n",
    "    a = b\n",
    "    b = remainder\n",
    "    i+=1\n",
    "print(\"GCD is \" +str(a)) \n"
   ]
  }
 ],
 "metadata": {
  "kernelspec": {
   "display_name": "Python 3",
   "language": "python",
   "name": "python3"
  },
  "language_info": {
   "codemirror_mode": {
    "name": "ipython",
    "version": 3
   },
   "file_extension": ".py",
   "mimetype": "text/x-python",
   "name": "python",
   "nbconvert_exporter": "python",
   "pygments_lexer": "ipython3",
   "version": "3.8.5"
  }
 },
 "nbformat": 4,
 "nbformat_minor": 4
}
