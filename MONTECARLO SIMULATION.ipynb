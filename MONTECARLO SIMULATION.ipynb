{
 "cells": [
  {
   "cell_type": "markdown",
   "id": "75b60666",
   "metadata": {},
   "source": [
    "# using monte-carlo simulation to find average distance between two points in a circle and disc"
   ]
  },
  {
   "cell_type": "code",
   "execution_count": 72,
   "id": "b24867b2",
   "metadata": {},
   "outputs": [],
   "source": [
    "import matplotlib.pyplot as plt\n",
    "import numpy as np"
   ]
  },
  {
   "cell_type": "code",
   "execution_count": 60,
   "id": "403a68dd",
   "metadata": {},
   "outputs": [],
   "source": [
    "avg = []\n",
    "for j in range(0,1000):\n",
    "    lst = []\n",
    "    for i in range(0,1000):\n",
    "        d = 0\n",
    "        x1 = np.random.uniform(-1,1)\n",
    "        if(np.random.uniform(0,1)>0.5):\n",
    "            y1 = (1-(x1**2))**0.5\n",
    "        else:\n",
    "             y1 = -(1-(x1**2))**0.5\n",
    "        \n",
    "        x2 = np.random.uniform(-1,1)\n",
    "        if(np.random.uniform(0,1)>0.5):\n",
    "            y2 = (1-(x2**2))**0.5\n",
    "        else:\n",
    "             y2 = -(1-(x2**2))**0.5\n",
    "\n",
    "        d = ((x1-x2)**2 + (y1-y2)**2)**0.5\n",
    "        lst.append(d)\n",
    "    avg.append(sum(lst)/1000)"
   ]
  },
  {
   "cell_type": "code",
   "execution_count": 62,
   "id": "7c2ed1ac",
   "metadata": {},
   "outputs": [
    {
     "name": "stdout",
     "output_type": "stream",
     "text": [
      "Average distance between two points in a circle 1.255313808241326\n"
     ]
    }
   ],
   "source": [
    "print('Average distance between two points in a circle',sum(avg)/1000)"
   ]
  },
  {
   "cell_type": "code",
   "execution_count": 50,
   "id": "f778cc33",
   "metadata": {},
   "outputs": [
    {
     "data": {
      "text/plain": [
       "(array([  2.,   5.,  11.,  15.,  19.,  48.,  79.,  84., 111., 127., 118.,\n",
       "        109.,  87.,  63.,  53.,  33.,  20.,   6.,   5.,   5.]),\n",
       " array([1.19137238, 1.19772129, 1.20407021, 1.21041913, 1.21676805,\n",
       "        1.22311697, 1.22946589, 1.23581481, 1.24216373, 1.24851265,\n",
       "        1.25486156, 1.26121048, 1.2675594 , 1.27390832, 1.28025724,\n",
       "        1.28660616, 1.29295508, 1.299304  , 1.30565292, 1.31200183,\n",
       "        1.31835075]),\n",
       " <BarContainer object of 20 artists>)"
      ]
     },
     "execution_count": 50,
     "metadata": {},
     "output_type": "execute_result"
    },
    {
     "data": {
      "image/png": "[encoded data removed]",
      "text/plain": [
       "<Figure size 432x288 with 1 Axes>"
      ]
     },
     "metadata": {
      "needs_background": "light"
     },
     "output_type": "display_data"
    }
   ],
   "source": [
    "plt.hist(avg,20)"
   ]
  },
  {
   "cell_type": "markdown",
   "id": "6e7051e7",
   "metadata": {},
   "source": [
    "# DISC"
   ]
  },
  {
   "cell_type": "code",
   "execution_count": 69,
   "id": "de24627c",
   "metadata": {},
   "outputs": [],
   "source": [
    "avg = []\n",
    "for j in range(0,1000):\n",
    "    lst = []\n",
    "    for i in range(0,1000):\n",
    "        d = 0\n",
    "        x1 = np.random.uniform(-1,1)\n",
    "        y1 = (1-(x1**2))**0.5\n",
    "        y1 = np.random.uniform(-y1,y1)\n",
    "        \n",
    "        x2 = np.random.uniform(-1,1)\n",
    "        y2 = (1-(x2**2))**0.5\n",
    "        y2 = np.random.uniform(-y2,y2)\n",
    "        \n",
    "\n",
    "        d = ((x1-x2)**2 + (y1-y2)**2)**0.5\n",
    "        lst.append(d)\n",
    "    avg.append(sum(lst)/1000)"
   ]
  },
  {
   "cell_type": "code",
   "execution_count": 70,
   "id": "ad67c625",
   "metadata": {},
   "outputs": [
    {
     "name": "stdout",
     "output_type": "stream",
     "text": [
      "Average distance between two points in a circle 0.95235751334649\n"
     ]
    }
   ],
   "source": [
    "print('Average distance between two points in aDisc',sum(avg)/1000)"
   ]
  },
  {
   "cell_type": "code",
   "execution_count": 71,
   "id": "11cc4760",
   "metadata": {},
   "outputs": [
    {
     "data": {
      "text/plain": [
       "(array([  2.,   6.,  16.,  28.,  45.,  78., 107., 123., 114., 128.,  99.,\n",
       "         97.,  70.,  37.,  24.,  16.,   8.,   0.,   1.,   1.]),\n",
       " array([0.91074781, 0.91543748, 0.92012716, 0.92481683, 0.9295065 ,\n",
       "        0.93419617, 0.93888584, 0.94357551, 0.94826519, 0.95295486,\n",
       "        0.95764453, 0.9623342 , 0.96702387, 0.97171355, 0.97640322,\n",
       "        0.98109289, 0.98578256, 0.99047223, 0.99516191, 0.99985158,\n",
       "        1.00454125]),\n",
       " <BarContainer object of 20 artists>)"
      ]
     },
     "execution_count": 71,
     "metadata": {},
     "output_type": "execute_result"
    },
    {
     "data": {
      "image/png": "[encoded data removed]",
      "text/plain": [
       "<Figure size 432x288 with 1 Axes>"
      ]
     },
     "metadata": {
      "needs_background": "light"
     },
     "output_type": "display_data"
    }
   ],
   "source": [
    "plt.hist(avg,20)"
   ]
  },
  {
   "cell_type": "code",
   "execution_count": null,
   "id": "7d77d1f0",
   "metadata": {},
   "outputs": [],
   "source": []
  }
 ],
 "metadata": {
  "kernelspec": {
   "display_name": "Python 3 (ipykernel)",
   "language": "python",
   "name": "python3"
  },
  "language_info": {
   "codemirror_mode": {
    "name": "ipython",
    "version": 3
   },
   "file_extension": ".py",
   "mimetype": "text/x-python",
   "name": "python",
   "nbconvert_exporter": "python",
   "pygments_lexer": "ipython3",
   "version": "3.9.7"
  }
 },
 "nbformat": 4,
 "nbformat_minor": 5
}
