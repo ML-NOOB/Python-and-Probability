{
 "cells": [
  {
   "cell_type": "code",
   "execution_count": 30,
   "metadata": {},
   "outputs": [],
   "source": [
    "import numpy as np\n",
    "import pandas as pd\n",
    "from pandas import Series, DataFrame\n",
    "import matplotlib.pyplot as plt\n",
    "import seaborn as sb"
   ]
  },
  {
   "cell_type": "code",
   "execution_count": 31,
   "metadata": {},
   "outputs": [
    {
     "data": {
      "text/plain": [
       "35576.747431452364"
      ]
     },
     "execution_count": 31,
     "metadata": {},
     "output_type": "execute_result"
    }
   ],
   "source": [
    "df = pd.read_csv('50_Startups.csv')\n",
    "df.columns\n",
    "df.corr()\n",
    "df\n",
    "mean = df.iloc[:,3].mean()\n",
    "sd = df.iloc[:,3].var()\n",
    "sd =sd**.5\n",
    "sd\n",
    "\n"
   ]
  },
  {
   "cell_type": "code",
   "execution_count": 32,
   "metadata": {},
   "outputs": [],
   "source": [
    "for i in range(0,4): #standardization of all variables\n",
    "  df.iloc[:,i] =(df.iloc[:,i]-df.iloc[:,i].mean())/(df.iloc[:,i].var())**0.5\n"
   ]
  },
  {
   "cell_type": "code",
   "execution_count": 33,
   "metadata": {},
   "outputs": [
    {
     "name": "stdout",
     "output_type": "stream",
     "text": [
      "here we can see the correlation between variables\n"
     ]
    },
    {
     "data": {
      "text/html": [
       "<div>\n",
       "<style scoped>\n",
       "    .dataframe tbody tr th:only-of-type {\n",
       "        vertical-align: middle;\n",
       "    }\n",
       "\n",
       "    .dataframe tbody tr th {\n",
       "        vertical-align: top;\n",
       "    }\n",
       "\n",
       "    .dataframe thead th {\n",
       "        text-align: right;\n",
       "    }\n",
       "</style>\n",
       "<table border=\"1\" class=\"dataframe\">\n",
       "  <thead>\n",
       "    <tr style=\"text-align: right;\">\n",
       "      <th></th>\n",
       "      <th>Marketing Spend</th>\n",
       "      <th>R&amp;D Spend</th>\n",
       "      <th>Administration</th>\n",
       "      <th>Profit</th>\n",
       "    </tr>\n",
       "  </thead>\n",
       "  <tbody>\n",
       "    <tr>\n",
       "      <th>Marketing Spend</th>\n",
       "      <td>1.000000</td>\n",
       "      <td>0.669662</td>\n",
       "      <td>-0.130478</td>\n",
       "      <td>0.693929</td>\n",
       "    </tr>\n",
       "    <tr>\n",
       "      <th>R&amp;D Spend</th>\n",
       "      <td>0.669662</td>\n",
       "      <td>1.000000</td>\n",
       "      <td>0.197824</td>\n",
       "      <td>0.977709</td>\n",
       "    </tr>\n",
       "    <tr>\n",
       "      <th>Administration</th>\n",
       "      <td>-0.130478</td>\n",
       "      <td>0.197824</td>\n",
       "      <td>1.000000</td>\n",
       "      <td>0.137055</td>\n",
       "    </tr>\n",
       "    <tr>\n",
       "      <th>Profit</th>\n",
       "      <td>0.693929</td>\n",
       "      <td>0.977709</td>\n",
       "      <td>0.137055</td>\n",
       "      <td>1.000000</td>\n",
       "    </tr>\n",
       "  </tbody>\n",
       "</table>\n",
       "</div>"
      ],
      "text/plain": [
       "                 Marketing Spend  R&D Spend  Administration    Profit\n",
       "Marketing Spend         1.000000   0.669662       -0.130478  0.693929\n",
       "R&D Spend               0.669662   1.000000        0.197824  0.977709\n",
       "Administration         -0.130478   0.197824        1.000000  0.137055\n",
       "Profit                  0.693929   0.977709        0.137055  1.000000"
      ]
     },
     "execution_count": 33,
     "metadata": {},
     "output_type": "execute_result"
    }
   ],
   "source": [
    "print('here we can see the correlation between variables')\n",
    "df.corr()\n",
    "\n"
   ]
  },
  {
   "cell_type": "code",
   "execution_count": 34,
   "metadata": {},
   "outputs": [
    {
     "data": {
      "text/plain": [
       "<AxesSubplot:>"
      ]
     },
     "execution_count": 34,
     "metadata": {},
     "output_type": "execute_result"
    },
    {
     "data": {
      "image/png": "[encoded data removed]",
      "text/plain": [
       "<Figure size 432x288 with 2 Axes>"
      ]
     },
     "metadata": {
      "needs_background": "light"
     },
     "output_type": "display_data"
    }
   ],
   "source": [
    "sb.heatmap(df.corr(), cmap=\"YlGnBu\", annot=True)"
   ]
  },
  {
   "cell_type": "code",
   "execution_count": 35,
   "metadata": {},
   "outputs": [
    {
     "data": {
      "text/html": [
       "<div>\n",
       "<style scoped>\n",
       "    .dataframe tbody tr th:only-of-type {\n",
       "        vertical-align: middle;\n",
       "    }\n",
       "\n",
       "    .dataframe tbody tr th {\n",
       "        vertical-align: top;\n",
       "    }\n",
       "\n",
       "    .dataframe thead th {\n",
       "        text-align: right;\n",
       "    }\n",
       "</style>\n",
       "<table border=\"1\" class=\"dataframe\">\n",
       "  <thead>\n",
       "    <tr style=\"text-align: right;\">\n",
       "      <th></th>\n",
       "      <th>0</th>\n",
       "      <th>1</th>\n",
       "      <th>2</th>\n",
       "    </tr>\n",
       "  </thead>\n",
       "  <tbody>\n",
       "    <tr>\n",
       "      <th>0</th>\n",
       "      <td>1.0</td>\n",
       "      <td>-0.0</td>\n",
       "      <td>0.0</td>\n",
       "    </tr>\n",
       "    <tr>\n",
       "      <th>1</th>\n",
       "      <td>-0.0</td>\n",
       "      <td>1.0</td>\n",
       "      <td>0.0</td>\n",
       "    </tr>\n",
       "    <tr>\n",
       "      <th>2</th>\n",
       "      <td>0.0</td>\n",
       "      <td>0.0</td>\n",
       "      <td>1.0</td>\n",
       "    </tr>\n",
       "  </tbody>\n",
       "</table>\n",
       "</div>"
      ],
      "text/plain": [
       "     0    1    2\n",
       "0  1.0 -0.0  0.0\n",
       "1 -0.0  1.0  0.0\n",
       "2  0.0  0.0  1.0"
      ]
     },
     "execution_count": 35,
     "metadata": {},
     "output_type": "execute_result"
    }
   ],
   "source": [
    "#converting into orthogonal basis\n",
    "dff = []\n",
    "i = 0\n",
    "while i <3:\n",
    "    b = []\n",
    "    b = df.iloc[:,i].values\n",
    "    dff.append(b)\n",
    "    i+=1\n",
    "orth = dff\n",
    "len(dff)\n",
    "for i in range(0, len(dff)):\n",
    "     \n",
    "     for j in range(0 , i):\n",
    "        c = [0]*47\n",
    "        c = c + orth[j]*np.dot(orth[j],orth[i])/np.dot(orth[j],orth[j])#3 orthogonal vectors\n",
    "        orth[i] = orth[i] - c\n",
    "orth = np.array(orth)    \n",
    "for i in range(0, len(orth)):\n",
    "   orth[i] = orth[i]/(np.dot(orth[i],orth[i]))**0.5 # changing orthogonal vectors to unit basis vectors\n",
    "da = pd.DataFrame(orth.T)\n",
    "round(da.corr(),15) # correlation between orthogonal vectors\n",
    "\n"
   ]
  },
  {
   "cell_type": "code",
   "execution_count": 36,
   "metadata": {},
   "outputs": [
    {
     "name": "stdout",
     "output_type": "stream",
     "text": [
      "projecton of 3 independent variables along 3 orthogonal vector\n",
      "\n"
     ]
    },
    {
     "data": {
      "text/plain": [
       "array([[ 2.1578,  0.5658,  0.5195],\n",
       "       [ 1.9154,  0.6644,  0.9748],\n",
       "       [ 1.6028,  0.662 , -0.9309],\n",
       "       [ 1.3878,  0.5962, -0.2738],\n",
       "       [ 1.2398,  0.6429, -1.3308],\n",
       "       [ 1.211 ,  0.4256, -0.9093],\n",
       "       [-0.8328,  1.8576, -0.156 ],\n",
       "       [ 0.8722,  0.616 ,  0.6465],\n",
       "       [ 0.7656,  0.4617,  0.8308],\n",
       "       [ 0.7079,  0.5649, -0.7176],\n",
       "       [ 0.0489,  0.5107, -0.7044],\n",
       "       [ 0.2278,  0.3622, -1.3029],\n",
       "       [ 0.2286,  0.2042,  0.0989],\n",
       "       [ 0.2532,  0.1445,  0.4367],\n",
       "       [ 0.2867,  0.7686,  0.9005],\n",
       "       [ 0.3324,  0.6126, -0.2734],\n",
       "       [ 0.3547, -0.2469,  0.136 ],\n",
       "       [ 0.5132,  0.032 ,  0.8848],\n",
       "       [ 0.6205, -0.1071, -0.1773],\n",
       "       [-1.9429,  1.4862,  0.1258],\n",
       "       [ 0.653 , -0.4873,  0.0121],\n",
       "       [ 0.6624, -0.4442,  1.4736],\n",
       "       [ 0.6935, -0.5667,  0.3896],\n",
       "       [ 0.7061, -0.7246, -0.1599],\n",
       "       [-0.7211,  0.4511, -1.1944],\n",
       "       [-0.7438,  0.18  ,  0.439 ],\n",
       "       [-0.7778,  0.4495,  0.4655],\n",
       "       [ 1.1269, -0.9006,  0.8076],\n",
       "       [-0.916 ,  0.3274,  1.9413],\n",
       "       [-1.0117,  0.3812,  0.8008],\n",
       "       [-1.1508,  0.3909, -0.6115],\n",
       "       [-1.1762,  0.388 ,  0.7636],\n",
       "       [-1.5424,  0.6858, -0.3106],\n",
       "       [-0.0773, -0.4784, -0.4895],\n",
       "       [-0.1107, -0.6658,  1.6329],\n",
       "       [-0.1566, -0.6446, -1.083 ],\n",
       "       [-0.1948, -1.0203,  0.6671],\n",
       "       [-0.2304, -0.6401, -2.3493],\n",
       "       [-0.3326, -1.1231, -1.5681],\n",
       "       [-0.4219, -0.6394, -1.197 ],\n",
       "       [-0.441 , -0.8533,  0.2324],\n",
       "       [-0.5134, -0.8248, -1.0488],\n",
       "       [-0.6565, -0.8273, -0.6398],\n",
       "       [-1.6341, -0.3608,  0.1503],\n",
       "       [-1.6967, -0.1646,  1.0596],\n",
       "       [-1.9264, -0.5006,  0.0645],\n",
       "       [ 0.6396, -2.2116,  0.9743]])"
      ]
     },
     "execution_count": 36,
     "metadata": {},
     "output_type": "execute_result"
    }
   ],
   "source": [
    "arr = []\n",
    "for i in range(0,3):\n",
    "    ar = [0]*47\n",
    "    for j in range(0,3):\n",
    "        ar = ar + orth[i]*np.dot(orth[i],dff[j]) #arr reperesents projection of all vectors along 3 orthogonal vectors\n",
    "    arr.append(ar)\n",
    "arr = np.array(arr)\n",
    "#print(arr)\n",
    "print('projecton of 3 independent variables along 3 orthogonal vector\\n')\n",
    "\n",
    "arr = arr.T\n",
    "arr #projection of all variables alnog 3 orthogonal vectors\n",
    "#now we need to calculate projection of profits along 3 orthogonal basis vecotrs\n",
    "\n"
   ]
  },
  {
   "cell_type": "code",
   "execution_count": 37,
   "metadata": {},
   "outputs": [
    {
     "name": "stdout",
     "output_type": "stream",
     "text": [
      "projection of profits along 3 orthogonal vectors\n",
      "[4.706455967921405, 4.685030644611802, -0.27953858265285836]\n"
     ]
    },
    {
     "data": {
      "text/plain": [
       "array([ 0.7081,  0.7049, -0.0421])"
      ]
     },
     "execution_count": 37,
     "metadata": {},
     "output_type": "execute_result"
    }
   ],
   "source": [
    "profit = df.loc[:,'Profit'].values\n",
    "ar =[0]*3\n",
    "for i in range(0,3):\n",
    "    ar[i] = np.dot(orth[i],profit)\n",
    "print('projection of profits along 3 orthogonal vectors')\n",
    "print(ar) \n",
    "unit_ar = ar/(np.dot(ar,ar))**0.5\n",
    "np.set_printoptions(precision=4)\n",
    "unit_ar\n"
   ]
  },
  {
   "cell_type": "code",
   "execution_count": 38,
   "metadata": {},
   "outputs": [
    {
     "data": {
      "image/png": "[encoded data removed]",
      "text/plain": [
       "<Figure size 432x288 with 1 Axes>"
      ]
     },
     "metadata": {
      "needs_background": "light"
     },
     "output_type": "display_data"
    }
   ],
   "source": [
    "tick = np.arange(0,len(ar),1)\n",
    "for i in range(0,len(ar)):\n",
    "    plt.bar(i,unit_ar[i] , color ='black',width = .4)\n",
    "    plt.xticks(tick)\n",
    "    plt.title('Ratio of components of dependent variable along 3 orthogonal vectors')"
   ]
  },
  {
   "cell_type": "code",
   "execution_count": 39,
   "metadata": {},
   "outputs": [
    {
     "data": {
      "image/png": "[encoded data removed]",
      "text/plain": [
       "<Figure size 432x288 with 2 Axes>"
      ]
     },
     "metadata": {
      "needs_background": "light"
     },
     "output_type": "display_data"
    }
   ],
   "source": [
    "arr = pd.DataFrame(arr)\n",
    "arr['profit'] = df.loc[:,'Profit']\n",
    "sb.heatmap(round(arr.corr(),10), cmap=\"YlGnBu\", annot=True)\n",
    "plt.title('correaltion matrix for new basis')\n",
    "plt.show()\n",
    "\n",
    "\n",
    "\n",
    "\n"
   ]
  },
  {
   "cell_type": "code",
   "execution_count": 40,
   "metadata": {},
   "outputs": [],
   "source": [
    "index = np.arange(0,47,1)"
   ]
  },
  {
   "cell_type": "code",
   "execution_count": 44,
   "metadata": {},
   "outputs": [
    {
     "name": "stdout",
     "output_type": "stream",
     "text": [
      "The root mean square error is \n",
      "\n",
      "7003.997741829598\n"
     ]
    }
   ],
   "source": [
    "lm_list= []\n",
    "slope_list = []\n",
    "slope = 0\n",
    "lm = []\n",
    "for i in range(0,3):\n",
    "    slope = 0\n",
    "    lm = []\n",
    "    slope = arr.cov().loc[i,'profit']/(arr.loc[:,i].var())\n",
    "    lm = arr[i].values*slope\n",
    "    lm_list.append(lm)\n",
    "    slope_list.append(slope)\n",
    "sum = []\n",
    "\n",
    "lm_list = np.array(lm_list)\n",
    "lm_list = lm_list.T\n",
    "sum = []\n",
    "for i in range(0,47):\n",
    "    s= 0\n",
    "    for j in range(0,3):\n",
    "     s = s+ lm_list[i,j]\n",
    "    sum.append(s)\n",
    "print(\"The root mean square error is \\n\")\n",
    "print((((((sum - arr.iloc[:,3])*sd ))**2).mean())**.5 )\n",
    "\n"
   ]
  },
  {
   "cell_type": "raw",
   "metadata": {},
   "source": [
    "\n",
    "slope_list\n",
    "    "
   ]
  },
  {
   "cell_type": "code",
   "execution_count": 42,
   "metadata": {},
   "outputs": [
    {
     "data": {
      "text/plain": [
       "[0.6939290744672216, 0.93012185890246, -0.045090927350651615]"
      ]
     },
     "execution_count": 42,
     "metadata": {},
     "output_type": "execute_result"
    }
   ],
   "source": [
    "slope_list"
   ]
  },
  {
   "cell_type": "code",
   "execution_count": null,
   "metadata": {},
   "outputs": [],
   "source": []
  },
  {
   "cell_type": "code",
   "execution_count": null,
   "metadata": {},
   "outputs": [],
   "source": []
  },
  {
   "cell_type": "code",
   "execution_count": null,
   "metadata": {},
   "outputs": [],
   "source": []
  },
  {
   "cell_type": "code",
   "execution_count": null,
   "metadata": {},
   "outputs": [],
   "source": []
  },
  {
   "cell_type": "code",
   "execution_count": null,
   "metadata": {},
   "outputs": [],
   "source": []
  },
  {
   "cell_type": "code",
   "execution_count": null,
   "metadata": {},
   "outputs": [],
   "source": [
    "\n"
   ]
  },
  {
   "cell_type": "code",
   "execution_count": null,
   "metadata": {},
   "outputs": [],
   "source": [
    "\n"
   ]
  },
  {
   "cell_type": "code",
   "execution_count": null,
   "metadata": {},
   "outputs": [],
   "source": [
    "\n"
   ]
  },
  {
   "cell_type": "code",
   "execution_count": null,
   "metadata": {},
   "outputs": [],
   "source": []
  }
 ],
 "metadata": {
  "kernelspec": {
   "display_name": "Python 3",
   "language": "python",
   "name": "python3"
  },
  "language_info": {
   "codemirror_mode": {
    "name": "ipython",
    "version": 3
   },
   "file_extension": ".py",
   "mimetype": "text/x-python",
   "name": "python",
   "nbconvert_exporter": "python",
   "pygments_lexer": "ipython3",
   "version": "3.8.5"
  }
 },
 "nbformat": 4,
 "nbformat_minor": 4
}
